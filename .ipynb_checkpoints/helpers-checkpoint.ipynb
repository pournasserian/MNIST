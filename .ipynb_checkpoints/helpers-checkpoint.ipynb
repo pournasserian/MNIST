{
 "cells": [
  {
   "cell_type": "code",
   "execution_count": 3,
   "metadata": {
    "collapsed": true
   },
   "outputs": [],
   "source": [
    "%matplotlib inline\n",
    "\n",
    "import numpy as np\n",
    "import matplotlib.pyplot as plt\n",
    "from IPython import display\n",
    "\n",
    "def plot_batch_images(images, labels, predictions = None, count = 100):\n",
    "    \n",
    "    plt.rcParams['axes.linewidth'] = 0.5\n",
    "    count_row_col = np.sqrt(count)\n",
    "\n",
    "    fig = plt.figure(figsize=(10, 10))\n",
    "    \n",
    "    for i in range(count):\n",
    "        label = labels[i]\n",
    "        image = images[i].reshape([28,28])\n",
    "        sub = plt.subplot(count_row_col, count_row_col, i + 1)\n",
    "        sub.set_xticks(())\n",
    "        sub.set_yticks(())\n",
    "        sub.text(1, 1, label, ha='center', va='top', size=8, color=\"k\")\n",
    "        \n",
    "        if not(predictions is None):\n",
    "            pred = predictions[i]\n",
    "            sub.text(25, 1, pred, ha='center', va='top', size=8, color=\"r\")\n",
    "        \n",
    "        sub.imshow(image, cmap=plt.get_cmap('gray_r'))\n",
    "    \n",
    "    fig.tight_layout(pad = 0)\n",
    "    plt.show()"
   ]
  },
  {
   "cell_type": "code",
   "execution_count": 1,
   "metadata": {
    "collapsed": true
   },
   "outputs": [],
   "source": [
    "def plot_performance(sample_range, learning_rates, \n",
    "                     train_accuracy = None, train_loss = None, \n",
    "                     test_accuracy = None, test_loss = None):\n",
    "    \n",
    "    plot_performance_chart(sample_range, test_accuracy, learning_rates, 'Test Accuracy')\n",
    "    plot_performance_chart(sample_range, train_accuracy, learning_rates, 'Train Accuracy')\n",
    "    plot_performance_chart(sample_range, test_loss, learning_rates, 'Test Loss', 'upper right')\n",
    "    plot_performance_chart(sample_range, train_loss, learning_rates, 'Train Loss', 'upper right')"
   ]
  },
  {
   "cell_type": "code",
   "execution_count": 1,
   "metadata": {
    "collapsed": true
   },
   "outputs": [],
   "source": [
    "def plot_performance_chart(X, Ys, legend_labels, label, loc = 'lower right'):\n",
    "    \n",
    "    COLORS = ['r', 'g', 'b', 'm', 'c', 'y']\n",
    "    \n",
    "    if not(Ys is None):\n",
    "        \n",
    "        plt.figure(figsize=(10,4))\n",
    "        \n",
    "        for i in range(len(legend_labels)):\n",
    "            plt.plot(X, Ys[i], c = COLORS[i], label = legend_labels[i])\n",
    "            plt.legend(loc = loc, frameon = True, prop = {'size':7}, title = \"Learning Rate\")\n",
    "            \n",
    "            #plt.ylim(ymax = 3000, ymin = 2600)\n",
    "            #plt.xlim(xmax = 100, xmin = 50)\n",
    "\n",
    "        plt.ylabel(label)\n",
    "        plt.xlabel('Steps')\n",
    "        plt.show()"
   ]
  }
 ],
 "metadata": {
  "anaconda-cloud": {},
  "kernelspec": {
   "display_name": "Python [conda root]",
   "language": "python",
   "name": "conda-root-py"
  },
  "language_info": {
   "codemirror_mode": {
    "name": "ipython",
    "version": 3
   },
   "file_extension": ".py",
   "mimetype": "text/x-python",
   "name": "python",
   "nbconvert_exporter": "python",
   "pygments_lexer": "ipython3",
   "version": "3.5.2"
  }
 },
 "nbformat": 4,
 "nbformat_minor": 1
}
